{
 "cells": [
  {
   "cell_type": "code",
   "execution_count": 4,
   "metadata": {},
   "outputs": [
    {
     "name": "stdout",
     "output_type": "stream",
     "text": [
      "\u001b[33mWarning:\u001b[0m proteinortho 6.0.35 is already installed and up-to-date.\r\n",
      "To reinstall 6.0.35, run:\r\n",
      "  brew reinstall proteinortho\r\n"
     ]
    }
   ],
   "source": [
    "!brew install proteinortho"
   ]
  },
  {
   "cell_type": "code",
   "execution_count": 5,
   "metadata": {},
   "outputs": [
    {
     "name": "stdout",
     "output_type": "stream",
     "text": [
      "--2022-06-09 09:48:15--  https://ftp.ncbi.nlm.nih.gov/genomes/all/GCA/000/227/135/GCA_000227135.2_ASM22713v2/GCA_000227135.2_ASM22713v2_protein.faa.gz\n",
      "Распознаётся ftp.ncbi.nlm.nih.gov (ftp.ncbi.nlm.nih.gov)… 165.112.9.230, 165.112.9.228, 2607:f220:41e:250::12, ...\n",
      "Подключение к ftp.ncbi.nlm.nih.gov (ftp.ncbi.nlm.nih.gov)|165.112.9.230|:443... соединение установлено.\n",
      "HTTP-запрос отправлен. Ожидание ответа… 200 OK\n",
      "Длина: 2999600 (2,9M) [application/x-gzip]\n",
      "Сохранение в: «protein.GCA_00022713.faa.gz»\n",
      "\n",
      "protein.GCA_0002271 100%[===================>]   2,86M  2,27MB/s    за 1,3s    \n",
      "\n",
      "2022-06-09 09:48:18 (2,27 MB/s) - «protein.GCA_00022713.faa.gz» сохранён [2999600/2999600]\n",
      "\n",
      "--2022-06-09 09:48:18--  https://ftp.ncbi.nlm.nih.gov/genomes/all/GCA/017/916/305/GCA_017916305.1_LU_Lenr_1.0/GCA_017916305.1_LU_Lenr_1.0_protein.faa.gz\n",
      "Распознаётся ftp.ncbi.nlm.nih.gov (ftp.ncbi.nlm.nih.gov)… 165.112.9.228, 165.112.9.230, 2607:f220:41e:250::12, ...\n",
      "Подключение к ftp.ncbi.nlm.nih.gov (ftp.ncbi.nlm.nih.gov)|165.112.9.228|:443... соединение установлено.\n",
      "HTTP-запрос отправлен. Ожидание ответа… 200 OK\n",
      "Длина: 3058323 (2,9M) [application/x-gzip]\n",
      "Сохранение в: «protein.GCA_017916305.faa.gz»\n",
      "\n",
      "protein.GCA_0179163 100%[===================>]   2,92M  2,28MB/s    за 1,3s    \n",
      "\n",
      "2022-06-09 09:48:20 (2,28 MB/s) - «protein.GCA_017916305.faa.gz» сохранён [3058323/3058323]\n",
      "\n",
      "--2022-06-09 09:48:20--  https://ftp.ncbi.nlm.nih.gov/genomes/all/GCA/000/002/875/GCA_000002875.2_ASM287v2/GCA_000002875.2_ASM287v2_protein.faa.gz\n",
      "Распознаётся ftp.ncbi.nlm.nih.gov (ftp.ncbi.nlm.nih.gov)… 165.112.9.230, 165.112.9.228, 2607:f220:41e:250::12, ...\n",
      "Подключение к ftp.ncbi.nlm.nih.gov (ftp.ncbi.nlm.nih.gov)|165.112.9.230|:443... соединение установлено.\n",
      "HTTP-запрос отправлен. Ожидание ответа… 200 OK\n",
      "Длина: 3108639 (3,0M) [application/x-gzip]\n",
      "Сохранение в: «protein.GCA_000002875.faa.gz»\n",
      "\n",
      "protein.GCA_0000028 100%[===================>]   2,96M  1,05MB/s    за 2,8s    \n",
      "\n",
      "2022-06-09 09:48:23 (1,05 MB/s) - «protein.GCA_000002875.faa.gz» сохранён [3108639/3108639]\n",
      "\n",
      "--2022-06-09 09:48:24--  https://ftp.ncbi.nlm.nih.gov/genomes/all/GCA/017/916/325/GCA_017916325.1_LU_Lmar_1.0/GCA_017916325.1_LU_Lmar_1.0_protein.faa.gz\n",
      "Распознаётся ftp.ncbi.nlm.nih.gov (ftp.ncbi.nlm.nih.gov)… 165.112.9.230, 165.112.9.228, 2607:f220:41e:250::12, ...\n",
      "Подключение к ftp.ncbi.nlm.nih.gov (ftp.ncbi.nlm.nih.gov)|165.112.9.230|:443... соединение установлено.\n",
      "HTTP-запрос отправлен. Ожидание ответа… 200 OK\n",
      "Длина: 2935412 (2,8M) [application/x-gzip]\n",
      "Сохранение в: «protein.GCA_017916325.faa.gz»\n",
      "\n",
      "protein.GCA_0179163 100%[===================>]   2,80M  1,07MB/s    за 2,6s    \n",
      "\n",
      "2022-06-09 09:48:27 (1,07 MB/s) - «protein.GCA_017916325.faa.gz» сохранён [2935412/2935412]\n",
      "\n",
      "--2022-06-09 09:48:27--  https://ftp.ncbi.nlm.nih.gov/genomes/all/GCA/000/755/165/GCA_000755165.1_ASM75516v1/GCA_000755165.1_ASM75516v1_protein.faa.gz\n",
      "Распознаётся ftp.ncbi.nlm.nih.gov (ftp.ncbi.nlm.nih.gov)… 165.112.9.230, 165.112.9.228, 2607:f220:41e:250::12, ...\n",
      "Подключение к ftp.ncbi.nlm.nih.gov (ftp.ncbi.nlm.nih.gov)|165.112.9.230|:443... соединение установлено.\n",
      "HTTP-запрос отправлен. Ожидание ответа… 200 OK\n",
      "Длина: 3009686 (2,9M) [application/x-gzip]\n",
      "Сохранение в: «protein.GCA_000755165.faa.gz»\n",
      "\n",
      "protein.GCA_0007551 100%[===================>]   2,87M  1,72MB/s    за 1,7s    \n",
      "\n",
      "2022-06-09 09:48:30 (1,72 MB/s) - «protein.GCA_000755165.faa.gz» сохранён [3009686/3009686]\n",
      "\n"
     ]
    }
   ],
   "source": [
    "! wget -O protein.GCA_00022713.faa.gz 'https://ftp.ncbi.nlm.nih.gov/genomes/all/GCA/000/227/135/GCA_000227135.2_ASM22713v2/GCA_000227135.2_ASM22713v2_protein.faa.gz'\n",
    "! wget -O protein.GCA_017916305.faa.gz 'https://ftp.ncbi.nlm.nih.gov/genomes/all/GCA/017/916/305/GCA_017916305.1_LU_Lenr_1.0/GCA_017916305.1_LU_Lenr_1.0_protein.faa.gz'\n",
    "! wget -O protein.GCA_000002875.faa.gz 'https://ftp.ncbi.nlm.nih.gov/genomes/all/GCA/000/002/875/GCA_000002875.2_ASM287v2/GCA_000002875.2_ASM287v2_protein.faa.gz'\n",
    "! wget -O protein.GCA_017916325.faa.gz 'https://ftp.ncbi.nlm.nih.gov/genomes/all/GCA/017/916/325/GCA_017916325.1_LU_Lmar_1.0/GCA_017916325.1_LU_Lmar_1.0_protein.faa.gz'\n",
    "! wget -O protein.GCA_000755165.faa.gz 'https://ftp.ncbi.nlm.nih.gov/genomes/all/GCA/000/755/165/GCA_000755165.1_ASM75516v1/GCA_000755165.1_ASM75516v1_protein.faa.gz'"
   ]
  },
  {
   "cell_type": "code",
   "execution_count": 6,
   "metadata": {},
   "outputs": [],
   "source": [
    "!gzip -d protein.GCA_000002875.faa.gz\n",
    "!gzip -d protein.GCA_00022713.faa.gz\n",
    "!gzip -d protein.GCA_000755165.faa.gz\n",
    "!gzip -d protein.GCA_017916305.faa.gz\n",
    "!gzip -d protein.GCA_017916325.faa.gz"
   ]
  },
  {
   "cell_type": "code",
   "execution_count": 13,
   "metadata": {},
   "outputs": [
    {
     "name": "stdout",
     "output_type": "stream",
     "text": [
      "*****************************************************************\n",
      "\u001b[1;32mProteinortho\u001b[0m with PoFF version 6.0.35 - An orthology detection tool\n",
      "*****************************************************************\n",
      "Using 8 CPU threads, Detected 'diamond' version 2.0.15\n",
      "Checking input files.\n",
      "Checking protein.GCA_000002875.faa... ok\n",
      "Checking protein.GCA_00022713.faa... ok\n",
      "Checking protein.GCA_000755165.faa... ok\n",
      "Checking protein.GCA_017916305.faa... ok\n",
      "Checking protein.GCA_017916325.faa... ok\n",
      "\n",
      "\u001b[1;32m**Step 1**\u001b[0m\n",
      "Generating indices.\n",
      "The database for 'protein.GCA_017916305.faa' is present and will be used\n",
      "The database for 'protein.GCA_000002875.faa' is present and will be used\n",
      "The database for 'protein.GCA_00022713.faa' is present and will be used\n",
      "The database for 'protein.GCA_017916325.faa' is present and will be used\n",
      "The database for 'protein.GCA_000755165.faa' is present and will be used\n",
      "\n",
      "\u001b[1;32m**Step 2**\u001b[0m using diamond \n",
      "Running blast analysis: 100% (10/10)                                           \n",
      "[OUTPUT] -> written to myproject.blast-graph\n",
      "\n",
      "\u001b[1;32m**Step 3**\u001b[0m\n",
      "Clustering by similarity (Proteinortho mode) using up to 16384 MB of memory (default value, command 'free' not found) and 8 cpu core(s). Adjust this behaviour with the -mem option.\n",
      "[OUTPUT] -> Orthologous groups are written to myproject.proteinortho.tsv\n",
      "You can extract the fasta files of each orthology group with\n",
      "proteinortho_grab_proteins.pl -tofiles myproject.proteinortho.tsv 'protein.GCA_017916305.faa' 'protein.GCA_000002875.faa' 'protein.GCA_00022713.faa' 'protein.GCA_017916325.faa' 'protein.GCA_000755165.faa'\n",
      " (Careful: This will generate a file foreach line in the file myproject.proteinortho.tsv).\n",
      "[OUTPUT] -> Orthologous pairs are written to myproject.proteinortho-graph\n",
      "[OUTPUT] -> Summary is written to myproject.proteinortho-graph.summary\n",
      "[OUTPUT] -> Orthologous groups are written to myproject.proteinortho.html\n",
      "[OUTPUT] -> You can extract a xml version of the output using :\n",
      "proteinortho2xml.pl myproject.proteinortho.tsv >myproject.proteinortho.tsv.xml\n",
      "\n",
      "\n",
      "\u001b[1;32mAll finished.\u001b[0m\n"
     ]
    }
   ],
   "source": [
    "!proteinortho  -cpus=8 protein.GCA_000002875.faa  protein.GCA_00022713.faa  protein.GCA_000755165.faa  protein.GCA_017916305.faa  protein.GCA_017916325.faa"
   ]
  },
  {
   "cell_type": "code",
   "execution_count": 15,
   "metadata": {},
   "outputs": [
    {
     "name": "stdout",
     "output_type": "stream",
     "text": [
      "# Species\tGenes\tAlg.-Conn.\tprotein.GCA_000002875.faa\tprotein.GCA_00022713.faa\tprotein.GCA_000755165.faa\tprotein.GCA_017916305.faa\tprotein.GCA_017916325.faa\r\n",
      "5\t30\t0.525\tCAM59692.1,CBZ08554.1,CBZ08555.1,CBZ08556.1,CBZ08558.1,CBZ08559.1\tCBZ33166.1\tAIN97046.1\tKAG5482106.1,KAG5482107.1,KAG5482108.1,KAG5482112.1,KAG5482113.1,KAG5482114.1,KAG5482115.1,KAG5482116.1,KAG5482117.1,KAG5482118.1,KAG5482119.1,KAG5482120.1,KAG5482121.1\tKAG5481465.1,KAG5481466.1,KAG5481467.1,KAG5481468.1,KAG5481469.1,KAG5481470.1,KAG5481471.1,KAG5481472.1,KAG5481473.1\r\n",
      "5\t23\t0.446\tCBZ08926.1,CBZ08927.1,CBZ08928.1\tCBZ37176.1,CBZ37177.1,CBZ37178.1\tAIO01330.1\tKAG5469649.1,KAG5469650.1,KAG5469651.1,KAG5469652.1\tKAG5469293.1,KAG5469294.1,KAG5469295.1,KAG5469296.1,KAG5469297.1,KAG5469298.1,KAG5469299.1,KAG5469300.1,KAG5469301.1,KAG5469302.1,KAG5469303.1,KAG5469304.1\r\n",
      "5\t17\t0.179\tCAM65963.1,CAM59818.1,CAM67225.2,CBZ08569.1\tCBZ32099.1,CBZ33477.1,CBZ33280.1\tAIN96049.1\tKAG5481132.1,KAG5481133.1,KAG5481134.1,KAG5484676.1\tKAG5480486.1,KAG5480487.1,KAG5480488.1,KAG5480489.1,KAG5485566.1\r\n",
      "5\t14\t0.679\tCAM72129.1,CAM72130.1\tCBZ38125.1,CBZ38126.1\tAIO01832.1,AIO01833.1,AIO01834.1\tKAG5467338.1,KAG5467339.1,KAG5467340.1,KAG5467341.1\tKAG5466800.1,KAG5466801.1,KAG5466802.1\r\n",
      "5\t14\t0.619\tCAM72286.1,CAM72288.1\tCBZ38281.1\tAIO01986.1,AIO01988.1\tKAG5467510.1,KAG5467512.1,KAG5467514.1,KAG5467516.1,KAG5467518.1\tKAG5466958.1,KAG5466960.1,KAG5466962.1,KAG5466964.1\r\n",
      "5\t14\t0.193\tCAM67808.1,CAM68323.1\tCBZ33893.1,CBZ34452.1\tAIN98160.1,AIN99160.1\tKAG5476620.1,KAG5478192.1,KAG5485294.1,KAG5480166.1\tKAG5476351.1,KAG5477714.1,KAG5479402.1,KAG5486260.1\r\n",
      "5\t12\t0.613\tCBZ08530.1,CBZ08531.1\tCBZ32933.1,CBZ32934.1\tAIN96834.1,AIN96835.1\tKAG5482751.1,KAG5482752.1\tKAG5482918.1,KAG5482919.1,KAG5482920.1,KAG5482921.1\r\n",
      "5\t12\t0.535\tCAM70425.1,CBZ08814.1\tCBZ36436.1,CBZ36437.1\tAIN99448.1,AIO00623.1\tKAG5471913.1,KAG5471914.1,KAG5475816.1\tKAG5471264.1,KAG5471265.1,KAG5475296.1\r\n",
      "5\t11\t0.712\tCAM72613.1,CAM72614.1\tCBZ38543.1,CBZ38544.1\tAIO02238.1,AIO02239.1\tKAG5465398.1,KAG5465399.1\tKAG5463927.1,KAG5463928.1,KAG5463929.1\r\n"
     ]
    }
   ],
   "source": [
    "!head myproject.proteinortho.tsv"
   ]
  }
 ],
 "metadata": {
  "kernelspec": {
   "display_name": "Python 3",
   "language": "python",
   "name": "python3"
  },
  "language_info": {
   "codemirror_mode": {
    "name": "ipython",
    "version": 3
   },
   "file_extension": ".py",
   "mimetype": "text/x-python",
   "name": "python",
   "nbconvert_exporter": "python",
   "pygments_lexer": "ipython3",
   "version": "3.7.4"
  }
 },
 "nbformat": 4,
 "nbformat_minor": 2
}
